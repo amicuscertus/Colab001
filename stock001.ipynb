{
  "nbformat": 4,
  "nbformat_minor": 0,
  "metadata": {
    "colab": {
      "name": "stock001.ipynb",
      "provenance": [],
      "include_colab_link": true
    },
    "kernelspec": {
      "name": "python3",
      "display_name": "Python 3"
    }
  },
  "cells": [
    {
      "cell_type": "markdown",
      "metadata": {
        "id": "view-in-github",
        "colab_type": "text"
      },
      "source": [
        "<a href=\"https://colab.research.google.com/github/amicuscertus/Colab001/blob/master/stock001.ipynb\" target=\"_parent\"><img src=\"https://colab.research.google.com/assets/colab-badge.svg\" alt=\"Open In Colab\"/></a>"
      ]
    },
    {
      "cell_type": "code",
      "metadata": {
        "id": "U_u90UDP5FWY",
        "colab_type": "code",
        "colab": {}
      },
      "source": [
        "import matplotlib.pyplot as plt\n",
        "import numpy as np\n",
        "import pandas as pd\n",
        "import seaborn as sns\n",
        "sns.set()"
      ],
      "execution_count": 0,
      "outputs": []
    },
    {
      "cell_type": "code",
      "metadata": {
        "id": "ajdJMP75KAH6",
        "colab_type": "code",
        "colab": {
          "base_uri": "https://localhost:8080/",
          "height": 78
        },
        "outputId": "40edf16b-4c99-42ec-ddaf-e405ee328687"
      },
      "source": [
        "dt = pd.read_csv('https://github.com/amicuscertus/Colab001/raw/master/8411_2019.csv', encoding='cp932', header=None, nrows=1)\n",
        "dt.head()"
      ],
      "execution_count": 2,
      "outputs": [
        {
          "output_type": "execute_result",
          "data": {
            "text/html": [
              "<div>\n",
              "<style scoped>\n",
              "    .dataframe tbody tr th:only-of-type {\n",
              "        vertical-align: middle;\n",
              "    }\n",
              "\n",
              "    .dataframe tbody tr th {\n",
              "        vertical-align: top;\n",
              "    }\n",
              "\n",
              "    .dataframe thead th {\n",
              "        text-align: right;\n",
              "    }\n",
              "</style>\n",
              "<table border=\"1\" class=\"dataframe\">\n",
              "  <thead>\n",
              "    <tr style=\"text-align: right;\">\n",
              "      <th></th>\n",
              "      <th>0</th>\n",
              "      <th>1</th>\n",
              "      <th>2</th>\n",
              "      <th>3</th>\n",
              "      <th>4</th>\n",
              "      <th>5</th>\n",
              "    </tr>\n",
              "  </thead>\n",
              "  <tbody>\n",
              "    <tr>\n",
              "      <th>0</th>\n",
              "      <td>8411 東証1部 (株)みずほフィナンシャルグループ（銀行業）</td>\n",
              "      <td>NaN</td>\n",
              "      <td>NaN</td>\n",
              "      <td>NaN</td>\n",
              "      <td>NaN</td>\n",
              "      <td>NaN</td>\n",
              "    </tr>\n",
              "  </tbody>\n",
              "</table>\n",
              "</div>"
            ],
            "text/plain": [
              "                                  0   1   2   3   4   5\n",
              "0  8411 東証1部 (株)みずほフィナンシャルグループ（銀行業） NaN NaN NaN NaN NaN"
            ]
          },
          "metadata": {
            "tags": []
          },
          "execution_count": 2
        }
      ]
    },
    {
      "cell_type": "code",
      "metadata": {
        "id": "mtEwu6smLSPZ",
        "colab_type": "code",
        "colab": {
          "base_uri": "https://localhost:8080/",
          "height": 35
        },
        "outputId": "0d50aa10-433c-413a-949c-f866fe3274f5"
      },
      "source": [
        "title = dt.iloc[0, 0].split()[0]\n",
        "print(title)"
      ],
      "execution_count": 3,
      "outputs": [
        {
          "output_type": "stream",
          "text": [
            "8411\n"
          ],
          "name": "stdout"
        }
      ]
    },
    {
      "cell_type": "code",
      "metadata": {
        "id": "BXrrTT_WC4pB",
        "colab_type": "code",
        "colab": {
          "base_uri": "https://localhost:8080/",
          "height": 108
        },
        "outputId": "f0e9773a-673e-4653-b513-a7e4e766fc56"
      },
      "source": [
        "df = pd.read_csv('https://github.com/amicuscertus/Colab001/raw/master/8411_2019.csv', encoding='cp932', header=1)\n",
        "df.head(2)"
      ],
      "execution_count": 4,
      "outputs": [
        {
          "output_type": "execute_result",
          "data": {
            "text/html": [
              "<div>\n",
              "<style scoped>\n",
              "    .dataframe tbody tr th:only-of-type {\n",
              "        vertical-align: middle;\n",
              "    }\n",
              "\n",
              "    .dataframe tbody tr th {\n",
              "        vertical-align: top;\n",
              "    }\n",
              "\n",
              "    .dataframe thead th {\n",
              "        text-align: right;\n",
              "    }\n",
              "</style>\n",
              "<table border=\"1\" class=\"dataframe\">\n",
              "  <thead>\n",
              "    <tr style=\"text-align: right;\">\n",
              "      <th></th>\n",
              "      <th>日付</th>\n",
              "      <th>始値</th>\n",
              "      <th>高値</th>\n",
              "      <th>安値</th>\n",
              "      <th>終値</th>\n",
              "      <th>出来高</th>\n",
              "      <th>終値調整値</th>\n",
              "    </tr>\n",
              "  </thead>\n",
              "  <tbody>\n",
              "    <tr>\n",
              "      <th>0</th>\n",
              "      <td>2019-01-04</td>\n",
              "      <td>166.6</td>\n",
              "      <td>170.9</td>\n",
              "      <td>166.5</td>\n",
              "      <td>170.6</td>\n",
              "      <td>124515100</td>\n",
              "      <td>170.6</td>\n",
              "    </tr>\n",
              "    <tr>\n",
              "      <th>1</th>\n",
              "      <td>2019-01-07</td>\n",
              "      <td>174.0</td>\n",
              "      <td>174.1</td>\n",
              "      <td>171.0</td>\n",
              "      <td>171.9</td>\n",
              "      <td>143772900</td>\n",
              "      <td>171.9</td>\n",
              "    </tr>\n",
              "  </tbody>\n",
              "</table>\n",
              "</div>"
            ],
            "text/plain": [
              "           日付     始値     高値     安値     終値        出来高  終値調整値\n",
              "0  2019-01-04  166.6  170.9  166.5  170.6  124515100  170.6\n",
              "1  2019-01-07  174.0  174.1  171.0  171.9  143772900  171.9"
            ]
          },
          "metadata": {
            "tags": []
          },
          "execution_count": 4
        }
      ]
    },
    {
      "cell_type": "code",
      "metadata": {
        "id": "LBkRx631EAoR",
        "colab_type": "code",
        "colab": {
          "base_uri": "https://localhost:8080/",
          "height": 288
        },
        "outputId": "49f615a3-66f9-48ce-87d5-6b17128b41cd"
      },
      "source": [
        "df.describe()"
      ],
      "execution_count": 5,
      "outputs": [
        {
          "output_type": "execute_result",
          "data": {
            "text/html": [
              "<div>\n",
              "<style scoped>\n",
              "    .dataframe tbody tr th:only-of-type {\n",
              "        vertical-align: middle;\n",
              "    }\n",
              "\n",
              "    .dataframe tbody tr th {\n",
              "        vertical-align: top;\n",
              "    }\n",
              "\n",
              "    .dataframe thead th {\n",
              "        text-align: right;\n",
              "    }\n",
              "</style>\n",
              "<table border=\"1\" class=\"dataframe\">\n",
              "  <thead>\n",
              "    <tr style=\"text-align: right;\">\n",
              "      <th></th>\n",
              "      <th>始値</th>\n",
              "      <th>高値</th>\n",
              "      <th>安値</th>\n",
              "      <th>終値</th>\n",
              "      <th>出来高</th>\n",
              "      <th>終値調整値</th>\n",
              "    </tr>\n",
              "  </thead>\n",
              "  <tbody>\n",
              "    <tr>\n",
              "      <th>count</th>\n",
              "      <td>182.000000</td>\n",
              "      <td>182.000000</td>\n",
              "      <td>182.000000</td>\n",
              "      <td>182.000000</td>\n",
              "      <td>1.820000e+02</td>\n",
              "      <td>182.000000</td>\n",
              "    </tr>\n",
              "    <tr>\n",
              "      <th>mean</th>\n",
              "      <td>165.137363</td>\n",
              "      <td>165.947253</td>\n",
              "      <td>164.318681</td>\n",
              "      <td>165.228571</td>\n",
              "      <td>9.498300e+07</td>\n",
              "      <td>165.228571</td>\n",
              "    </tr>\n",
              "    <tr>\n",
              "      <th>std</th>\n",
              "      <td>9.111812</td>\n",
              "      <td>9.144824</td>\n",
              "      <td>9.052382</td>\n",
              "      <td>9.036260</td>\n",
              "      <td>3.210492e+07</td>\n",
              "      <td>9.036260</td>\n",
              "    </tr>\n",
              "    <tr>\n",
              "      <th>min</th>\n",
              "      <td>151.000000</td>\n",
              "      <td>151.100000</td>\n",
              "      <td>150.100000</td>\n",
              "      <td>150.700000</td>\n",
              "      <td>4.281890e+07</td>\n",
              "      <td>150.700000</td>\n",
              "    </tr>\n",
              "    <tr>\n",
              "      <th>25%</th>\n",
              "      <td>156.000000</td>\n",
              "      <td>156.825000</td>\n",
              "      <td>155.500000</td>\n",
              "      <td>156.125000</td>\n",
              "      <td>7.197470e+07</td>\n",
              "      <td>156.125000</td>\n",
              "    </tr>\n",
              "    <tr>\n",
              "      <th>50%</th>\n",
              "      <td>167.300000</td>\n",
              "      <td>168.200000</td>\n",
              "      <td>166.200000</td>\n",
              "      <td>167.350000</td>\n",
              "      <td>8.860645e+07</td>\n",
              "      <td>167.350000</td>\n",
              "    </tr>\n",
              "    <tr>\n",
              "      <th>75%</th>\n",
              "      <td>174.000000</td>\n",
              "      <td>174.775000</td>\n",
              "      <td>172.800000</td>\n",
              "      <td>174.000000</td>\n",
              "      <td>1.135286e+08</td>\n",
              "      <td>174.000000</td>\n",
              "    </tr>\n",
              "    <tr>\n",
              "      <th>max</th>\n",
              "      <td>179.300000</td>\n",
              "      <td>180.200000</td>\n",
              "      <td>179.000000</td>\n",
              "      <td>179.400000</td>\n",
              "      <td>2.279906e+08</td>\n",
              "      <td>179.400000</td>\n",
              "    </tr>\n",
              "  </tbody>\n",
              "</table>\n",
              "</div>"
            ],
            "text/plain": [
              "               始値          高値          安値          終値           出来高       終値調整値\n",
              "count  182.000000  182.000000  182.000000  182.000000  1.820000e+02  182.000000\n",
              "mean   165.137363  165.947253  164.318681  165.228571  9.498300e+07  165.228571\n",
              "std      9.111812    9.144824    9.052382    9.036260  3.210492e+07    9.036260\n",
              "min    151.000000  151.100000  150.100000  150.700000  4.281890e+07  150.700000\n",
              "25%    156.000000  156.825000  155.500000  156.125000  7.197470e+07  156.125000\n",
              "50%    167.300000  168.200000  166.200000  167.350000  8.860645e+07  167.350000\n",
              "75%    174.000000  174.775000  172.800000  174.000000  1.135286e+08  174.000000\n",
              "max    179.300000  180.200000  179.000000  179.400000  2.279906e+08  179.400000"
            ]
          },
          "metadata": {
            "tags": []
          },
          "execution_count": 5
        }
      ]
    },
    {
      "cell_type": "code",
      "metadata": {
        "id": "6FzhrLesAB1D",
        "colab_type": "code",
        "colab": {
          "base_uri": "https://localhost:8080/",
          "height": 291
        },
        "outputId": "cbd5ba74-d987-40ff-f776-6f1fa71fa5a7"
      },
      "source": [
        "fig, (ax1, ax2) = plt.subplots(nrows=2, ncols=1, sharex=True)\n",
        "ax1.plot(df['終値'], color='r')\n",
        "ax2.plot(df['出来高'])"
      ],
      "execution_count": 6,
      "outputs": [
        {
          "output_type": "execute_result",
          "data": {
            "text/plain": [
              "[<matplotlib.lines.Line2D at 0x7fa3a1c0b9e8>]"
            ]
          },
          "metadata": {
            "tags": []
          },
          "execution_count": 6
        },
        {
          "output_type": "display_data",
          "data": {
            "image/png": "[encoded data removed]",
            "text/plain": [
              "<Figure size 432x288 with 2 Axes>"
            ]
          },
          "metadata": {
            "tags": []
          }
        }
      ]
    },
    {
      "cell_type": "code",
      "metadata": {
        "id": "dLqr0DfDHnlx",
        "colab_type": "code",
        "colab": {}
      },
      "source": [
        "df['日付'] = pd.to_datetime(df['日付'])"
      ],
      "execution_count": 0,
      "outputs": []
    },
    {
      "cell_type": "code",
      "metadata": {
        "id": "vucyNDt3IB7c",
        "colab_type": "code",
        "colab": {
          "base_uri": "https://localhost:8080/",
          "height": 445
        },
        "outputId": "329157a8-9a18-43a3-8e8f-cdb1ecdd1ab0"
      },
      "source": [
        "plt.plot(df['日付'], df['終値'], color='r')\n",
        "plt.xticks(rotation=30)\n",
        "plt.title(title)"
      ],
      "execution_count": 8,
      "outputs": [
        {
          "output_type": "stream",
          "text": [
            "/usr/local/lib/python3.6/dist-packages/pandas/plotting/_converter.py:129: FutureWarning: Using an implicitly registered datetime converter for a matplotlib plotting method. The converter was registered by pandas on import. Future versions of pandas will require you to explicitly register matplotlib converters.\n",
            "\n",
            "To register the converters:\n",
            "\t>>> from pandas.plotting import register_matplotlib_converters\n",
            "\t>>> register_matplotlib_converters()\n",
            "  warnings.warn(msg, FutureWarning)\n"
          ],
          "name": "stderr"
        },
        {
          "output_type": "execute_result",
          "data": {
            "text/plain": [
              "Text(0.5, 1.0, '8411')"
            ]
          },
          "metadata": {
            "tags": []
          },
          "execution_count": 8
        },
        {
          "output_type": "display_data",
          "data": {
            "image/png": "[encoded data removed]",
            "text/plain": [
              "<Figure size 432x288 with 1 Axes>"
            ]
          },
          "metadata": {
            "tags": []
          }
        }
      ]
    }
  ]
}