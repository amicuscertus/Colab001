{
  "nbformat": 4,
  "nbformat_minor": 0,
  "metadata": {
    "colab": {
      "name": "average_precision.ipynb",
      "provenance": [],
      "collapsed_sections": [],
      "include_colab_link": true
    },
    "kernelspec": {
      "name": "python3",
      "display_name": "Python 3"
    }
  },
  "cells": [
    {
      "cell_type": "markdown",
      "metadata": {
        "id": "view-in-github",
        "colab_type": "text"
      },
      "source": [
        "<a href=\"https://colab.research.google.com/github/amicuscertus/Colab001/blob/master/average_precision.ipynb\" target=\"_parent\"><img src=\"https://colab.research.google.com/assets/colab-badge.svg\" alt=\"Open In Colab\"/></a>"
      ]
    },
    {
      "cell_type": "code",
      "metadata": {
        "id": "mNYJwL4biQTa",
        "colab_type": "code",
        "colab": {}
      },
      "source": [
        "import numpy as np"
      ],
      "execution_count": 0,
      "outputs": []
    },
    {
      "cell_type": "code",
      "metadata": {
        "id": "iRT5jmWeiUjW",
        "colab_type": "code",
        "outputId": "b3a05768-e3d3-43c8-e61c-28f0b8a19709",
        "colab": {
          "base_uri": "https://localhost:8080/",
          "height": 35
        }
      },
      "source": [
        "r = [1, 1, 0, 1, 0, 1, 0, 0, 0, 1]\n",
        "print(r)"
      ],
      "execution_count": 3,
      "outputs": [
        {
          "output_type": "stream",
          "text": [
            "[1, 1, 0, 1, 0, 1, 0, 0, 0, 1]\n"
          ],
          "name": "stdout"
        }
      ]
    },
    {
      "cell_type": "code",
      "metadata": {
        "id": "sJ_zmtUAidBM",
        "colab_type": "code",
        "outputId": "1f32c2d7-5d01-4b49-a4a9-4f23e3e8e2e3",
        "colab": {
          "base_uri": "https://localhost:8080/",
          "height": 35
        }
      },
      "source": [
        "delta_r = 1. / sum(r)\n",
        "print(delta_r)"
      ],
      "execution_count": 4,
      "outputs": [
        {
          "output_type": "stream",
          "text": [
            "0.2\n"
          ],
          "name": "stdout"
        }
      ]
    },
    {
      "cell_type": "code",
      "metadata": {
        "id": "XK2i4oGtij4g",
        "colab_type": "code",
        "outputId": "710fe98f-5190-4ef5-c2d8-fe3672a07cee",
        "colab": {
          "base_uri": "https://localhost:8080/",
          "height": 35
        }
      },
      "source": [
        "sum([sum(r[:x + 1]) / (x + 1.) * delta_r for x, y in enumerate(r) if y])"
      ],
      "execution_count": 5,
      "outputs": [
        {
          "output_type": "execute_result",
          "data": {
            "text/plain": [
              "0.7833333333333333"
            ]
          },
          "metadata": {
            "tags": []
          },
          "execution_count": 5
        }
      ]
    },
    {
      "cell_type": "code",
      "metadata": {
        "id": "aye9w4z_jIqL",
        "colab_type": "code",
        "outputId": "340d2166-8384-4250-ca9f-a11c2384635d",
        "colab": {
          "base_uri": "https://localhost:8080/",
          "height": 104
        }
      },
      "source": [
        "for x, y in enumerate(r):\n",
        "  if y:\n",
        "    print(x, y)"
      ],
      "execution_count": 6,
      "outputs": [
        {
          "output_type": "stream",
          "text": [
            "0 1\n",
            "1 1\n",
            "3 1\n",
            "5 1\n",
            "9 1\n"
          ],
          "name": "stdout"
        }
      ]
    },
    {
      "cell_type": "code",
      "metadata": {
        "id": "kxRvsOISkjGK",
        "colab_type": "code",
        "outputId": "d98e0892-b176-4560-c32e-8b8c5def7a37",
        "colab": {
          "base_uri": "https://localhost:8080/",
          "height": 35
        }
      },
      "source": [
        "[sum(r[:x + 1]) / (x + 1.) * delta_r for x, y in enumerate(r) if y]"
      ],
      "execution_count": 7,
      "outputs": [
        {
          "output_type": "execute_result",
          "data": {
            "text/plain": [
              "[0.2, 0.2, 0.15000000000000002, 0.13333333333333333, 0.1]"
            ]
          },
          "metadata": {
            "tags": []
          },
          "execution_count": 7
        }
      ]
    },
    {
      "cell_type": "code",
      "metadata": {
        "id": "LfcCm0eNmDnB",
        "colab_type": "code",
        "outputId": "e378911c-2c2d-4855-9da3-3e8fd8be8439",
        "colab": {
          "base_uri": "https://localhost:8080/",
          "height": 190
        }
      },
      "source": [
        "for x, y in enumerate(r):\n",
        "  print(x, y)"
      ],
      "execution_count": 8,
      "outputs": [
        {
          "output_type": "stream",
          "text": [
            "0 1\n",
            "1 1\n",
            "2 0\n",
            "3 1\n",
            "4 0\n",
            "5 1\n",
            "6 0\n",
            "7 0\n",
            "8 0\n",
            "9 1\n"
          ],
          "name": "stdout"
        }
      ]
    },
    {
      "cell_type": "code",
      "metadata": {
        "id": "2YXzOfiKzTuP",
        "colab_type": "code",
        "outputId": "e3ee70e5-46c0-4aaa-99c1-53a93864be9e",
        "colab": {
          "base_uri": "https://localhost:8080/",
          "height": 104
        }
      },
      "source": [
        "for i in [-2, -1, 0, 1, 2]:\n",
        "  print(i)"
      ],
      "execution_count": 9,
      "outputs": [
        {
          "output_type": "stream",
          "text": [
            "-2\n",
            "-1\n",
            "0\n",
            "1\n",
            "2\n"
          ],
          "name": "stdout"
        }
      ]
    },
    {
      "cell_type": "code",
      "metadata": {
        "id": "jEOJ694fzYWZ",
        "colab_type": "code",
        "outputId": "aef950ed-12ef-4e33-d77f-9847d8d678c4",
        "colab": {
          "base_uri": "https://localhost:8080/",
          "height": 104
        }
      },
      "source": [
        "for i in [-2, -1, 0, 1, 2]:\n",
        "  if i:\n",
        "    print('True', i)\n",
        "  else:\n",
        "    print('False', i)"
      ],
      "execution_count": 10,
      "outputs": [
        {
          "output_type": "stream",
          "text": [
            "True -2\n",
            "True -1\n",
            "False 0\n",
            "True 1\n",
            "True 2\n"
          ],
          "name": "stdout"
        }
      ]
    },
    {
      "cell_type": "code",
      "metadata": {
        "id": "atwTRcCF3Uhg",
        "colab_type": "code",
        "outputId": "c290a9d1-6ed5-450c-f1c0-c8223711403c",
        "colab": {
          "base_uri": "https://localhost:8080/",
          "height": 35
        }
      },
      "source": [
        "r = [0, 1, 2, 3, 4]\n",
        "sum(r[i] for i in range(len(r)))"
      ],
      "execution_count": 11,
      "outputs": [
        {
          "output_type": "execute_result",
          "data": {
            "text/plain": [
              "10"
            ]
          },
          "metadata": {
            "tags": []
          },
          "execution_count": 11
        }
      ]
    },
    {
      "cell_type": "code",
      "metadata": {
        "id": "fuSggqZeHdr0",
        "colab_type": "code",
        "outputId": "5be8595e-b237-4720-db5c-057da9e5d9e4",
        "colab": {
          "base_uri": "https://localhost:8080/",
          "height": 35
        }
      },
      "source": [
        "r = [0, 1, 2, 3, 4]\n",
        "sum(r[i] for i in range(len(r)) if i > 2)"
      ],
      "execution_count": 12,
      "outputs": [
        {
          "output_type": "execute_result",
          "data": {
            "text/plain": [
              "7"
            ]
          },
          "metadata": {
            "tags": []
          },
          "execution_count": 12
        }
      ]
    },
    {
      "cell_type": "code",
      "metadata": {
        "id": "BFhaB_w3Iy1-",
        "colab_type": "code",
        "colab": {
          "base_uri": "https://localhost:8080/",
          "height": 35
        },
        "outputId": "68bf447b-53bd-431e-e2cd-3c9792402d2c"
      },
      "source": [
        "r = [1, 1, 0, 1, 0, 1, 0, 0, 0, 1]\n",
        "print(r)"
      ],
      "execution_count": 16,
      "outputs": [
        {
          "output_type": "stream",
          "text": [
            "[1, 1, 0, 1, 0, 1, 0, 0, 0, 1]\n"
          ],
          "name": "stdout"
        }
      ]
    },
    {
      "cell_type": "code",
      "metadata": {
        "id": "ebmX1E4MQH9p",
        "colab_type": "code",
        "colab": {
          "base_uri": "https://localhost:8080/",
          "height": 35
        },
        "outputId": "6c09bb6f-49a9-4295-d396-7a8272fe3d14"
      },
      "source": [
        "r = [1, 1, 0, 1, 0, 1, 0, 0, 0, 1]\n",
        "r = np.asarray(r)\n",
        "print(r)"
      ],
      "execution_count": 17,
      "outputs": [
        {
          "output_type": "stream",
          "text": [
            "[1 1 0 1 0 1 0 0 0 1]\n"
          ],
          "name": "stdout"
        }
      ]
    },
    {
      "cell_type": "code",
      "metadata": {
        "id": "0uO0kuqBQWfM",
        "colab_type": "code",
        "colab": {
          "base_uri": "https://localhost:8080/",
          "height": 35
        },
        "outputId": "045d95c8-bc33-411f-fc9d-0468ff1ae258"
      },
      "source": [
        "r = [1, 1, 0, 1, 0, 1, 0, 0, 0, 1]\n",
        "r = np.asarray(r) != 0\n",
        "print(r)"
      ],
      "execution_count": 18,
      "outputs": [
        {
          "output_type": "stream",
          "text": [
            "[ True  True False  True False  True False False False  True]\n"
          ],
          "name": "stdout"
        }
      ]
    },
    {
      "cell_type": "code",
      "metadata": {
        "id": "JEf36lHtQZsz",
        "colab_type": "code",
        "colab": {
          "base_uri": "https://localhost:8080/",
          "height": 35
        },
        "outputId": "5dff4f54-98d0-4297-dbe7-0e717e4b42c0"
      },
      "source": [
        "r = [1, 1, 0, 1, 0, 1, 0, 0, 0, 1]\n",
        "r = np.asarray(r) != 0\n",
        "out = [k for k in range(r.size)]\n",
        "print(out)"
      ],
      "execution_count": 21,
      "outputs": [
        {
          "output_type": "stream",
          "text": [
            "[0, 1, 2, 3, 4, 5, 6, 7, 8, 9]\n"
          ],
          "name": "stdout"
        }
      ]
    },
    {
      "cell_type": "code",
      "metadata": {
        "id": "52aXAReQS8qL",
        "colab_type": "code",
        "colab": {
          "base_uri": "https://localhost:8080/",
          "height": 35
        },
        "outputId": "16455aa7-9576-4035-f7fb-1871afcae8ce"
      },
      "source": [
        "r = [1, 1, 0, 1, 0, 1, 0, 0, 0, 1]\n",
        "r = np.asarray(r) != 0\n",
        "out = [k for k in range(r.size) if r[k]]\n",
        "print(out)"
      ],
      "execution_count": 23,
      "outputs": [
        {
          "output_type": "stream",
          "text": [
            "[0, 1, 3, 5, 9]\n"
          ],
          "name": "stdout"
        }
      ]
    },
    {
      "cell_type": "code",
      "metadata": {
        "id": "9mAwxTjXTUGS",
        "colab_type": "code",
        "colab": {}
      },
      "source": [
        ""
      ],
      "execution_count": 0,
      "outputs": []
    }
  ]
}