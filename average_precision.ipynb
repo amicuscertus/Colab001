{
  "nbformat": 4,
  "nbformat_minor": 0,
  "metadata": {
    "colab": {
      "name": "average_precision.ipynb",
      "provenance": [],
      "collapsed_sections": [],
      "include_colab_link": true
    },
    "kernelspec": {
      "name": "python3",
      "display_name": "Python 3"
    }
  },
  "cells": [
    {
      "cell_type": "markdown",
      "metadata": {
        "id": "view-in-github",
        "colab_type": "text"
      },
      "source": [
        "<a href=\"https://colab.research.google.com/github/amicuscertus/Colab001/blob/master/average_precision.ipynb\" target=\"_parent\"><img src=\"https://colab.research.google.com/assets/colab-badge.svg\" alt=\"Open In Colab\"/></a>"
      ]
    },
    {
      "cell_type": "code",
      "metadata": {
        "id": "mNYJwL4biQTa",
        "colab_type": "code",
        "colab": {}
      },
      "source": [
        "import numpy as np"
      ],
      "execution_count": 0,
      "outputs": []
    },
    {
      "cell_type": "code",
      "metadata": {
        "id": "iRT5jmWeiUjW",
        "colab_type": "code",
        "outputId": "501e5d6e-9cd2-41c1-9c51-152c9179a1a8",
        "colab": {
          "base_uri": "https://localhost:8080/",
          "height": 35
        }
      },
      "source": [
        "r = [1, 1, 0, 1, 0, 1, 0, 0, 0, 1]\n",
        "print(r)"
      ],
      "execution_count": 2,
      "outputs": [
        {
          "output_type": "stream",
          "text": [
            "[1, 1, 0, 1, 0, 1, 0, 0, 0, 1]\n"
          ],
          "name": "stdout"
        }
      ]
    },
    {
      "cell_type": "code",
      "metadata": {
        "id": "sJ_zmtUAidBM",
        "colab_type": "code",
        "outputId": "6f47e338-e7c7-4d41-f116-6a6631c91926",
        "colab": {
          "base_uri": "https://localhost:8080/",
          "height": 35
        }
      },
      "source": [
        "delta_r = 1. / sum(r)\n",
        "print(delta_r)"
      ],
      "execution_count": 3,
      "outputs": [
        {
          "output_type": "stream",
          "text": [
            "0.2\n"
          ],
          "name": "stdout"
        }
      ]
    },
    {
      "cell_type": "code",
      "metadata": {
        "id": "XK2i4oGtij4g",
        "colab_type": "code",
        "outputId": "6538485a-c698-4680-d034-af33183abc0a",
        "colab": {
          "base_uri": "https://localhost:8080/",
          "height": 35
        }
      },
      "source": [
        "sum([sum(r[:x + 1]) / (x + 1.) * delta_r for x, y in enumerate(r) if y])"
      ],
      "execution_count": 4,
      "outputs": [
        {
          "output_type": "execute_result",
          "data": {
            "text/plain": [
              "0.7833333333333333"
            ]
          },
          "metadata": {
            "tags": []
          },
          "execution_count": 4
        }
      ]
    },
    {
      "cell_type": "code",
      "metadata": {
        "id": "aye9w4z_jIqL",
        "colab_type": "code",
        "outputId": "101f4f33-787d-4a02-9920-863f057530f2",
        "colab": {
          "base_uri": "https://localhost:8080/",
          "height": 104
        }
      },
      "source": [
        "for x, y in enumerate(r):\n",
        "  if y:\n",
        "    print(x, y)"
      ],
      "execution_count": 5,
      "outputs": [
        {
          "output_type": "stream",
          "text": [
            "0 1\n",
            "1 1\n",
            "3 1\n",
            "5 1\n",
            "9 1\n"
          ],
          "name": "stdout"
        }
      ]
    },
    {
      "cell_type": "code",
      "metadata": {
        "id": "kxRvsOISkjGK",
        "colab_type": "code",
        "outputId": "ff3b3c1c-c86a-47ce-f9a2-17ce2cd99424",
        "colab": {
          "base_uri": "https://localhost:8080/",
          "height": 35
        }
      },
      "source": [
        "[sum(r[:x + 1]) / (x + 1.) * delta_r for x, y in enumerate(r) if y]"
      ],
      "execution_count": 6,
      "outputs": [
        {
          "output_type": "execute_result",
          "data": {
            "text/plain": [
              "[0.2, 0.2, 0.15000000000000002, 0.13333333333333333, 0.1]"
            ]
          },
          "metadata": {
            "tags": []
          },
          "execution_count": 6
        }
      ]
    },
    {
      "cell_type": "code",
      "metadata": {
        "id": "LfcCm0eNmDnB",
        "colab_type": "code",
        "colab": {
          "base_uri": "https://localhost:8080/",
          "height": 190
        },
        "outputId": "257b8d4e-95af-457d-8d26-45a2f72d9877"
      },
      "source": [
        "for x, y in enumerate(r):\n",
        "  print(x, y)"
      ],
      "execution_count": 7,
      "outputs": [
        {
          "output_type": "stream",
          "text": [
            "0 1\n",
            "1 1\n",
            "2 0\n",
            "3 1\n",
            "4 0\n",
            "5 1\n",
            "6 0\n",
            "7 0\n",
            "8 0\n",
            "9 1\n"
          ],
          "name": "stdout"
        }
      ]
    },
    {
      "cell_type": "code",
      "metadata": {
        "id": "2YXzOfiKzTuP",
        "colab_type": "code",
        "colab": {
          "base_uri": "https://localhost:8080/",
          "height": 104
        },
        "outputId": "aa1fc987-b16c-49a2-a755-ecbe5af5476f"
      },
      "source": [
        "for i in [-2, -1, 0, 1, 2]:\n",
        "  print(i)"
      ],
      "execution_count": 14,
      "outputs": [
        {
          "output_type": "stream",
          "text": [
            "-2\n",
            "-1\n",
            "0\n",
            "1\n",
            "2\n"
          ],
          "name": "stdout"
        }
      ]
    },
    {
      "cell_type": "code",
      "metadata": {
        "id": "jEOJ694fzYWZ",
        "colab_type": "code",
        "colab": {
          "base_uri": "https://localhost:8080/",
          "height": 104
        },
        "outputId": "95dc5ddf-231f-4199-94fc-074ee8085961"
      },
      "source": [
        "for i in [-2, -1, 0, 1, 2]:\n",
        "  if i:\n",
        "    print('True', i)\n",
        "  else:\n",
        "    print('False', i)"
      ],
      "execution_count": 16,
      "outputs": [
        {
          "output_type": "stream",
          "text": [
            "True -2\n",
            "True -1\n",
            "False 0\n",
            "True 1\n",
            "True 2\n"
          ],
          "name": "stdout"
        }
      ]
    },
    {
      "cell_type": "code",
      "metadata": {
        "id": "atwTRcCF3Uhg",
        "colab_type": "code",
        "colab": {
          "base_uri": "https://localhost:8080/",
          "height": 35
        },
        "outputId": "c6308d45-b03a-4d62-9862-c15f1858d847"
      },
      "source": [
        "r = [0, 1, 2, 3, 4]\n",
        "sum(r[i] for i in range(len(r)))"
      ],
      "execution_count": 23,
      "outputs": [
        {
          "output_type": "execute_result",
          "data": {
            "text/plain": [
              "10"
            ]
          },
          "metadata": {
            "tags": []
          },
          "execution_count": 23
        }
      ]
    },
    {
      "cell_type": "code",
      "metadata": {
        "id": "fuSggqZeHdr0",
        "colab_type": "code",
        "colab": {
          "base_uri": "https://localhost:8080/",
          "height": 35
        },
        "outputId": "0a8fdc40-1c55-4f6a-fce5-c0cfb79234c7"
      },
      "source": [
        "r = [0, 1, 2, 3, 4]\n",
        "sum(r[i] for i in range(len(r)) if i > 2)"
      ],
      "execution_count": 24,
      "outputs": [
        {
          "output_type": "execute_result",
          "data": {
            "text/plain": [
              "7"
            ]
          },
          "metadata": {
            "tags": []
          },
          "execution_count": 24
        }
      ]
    },
    {
      "cell_type": "code",
      "metadata": {
        "id": "BFhaB_w3Iy1-",
        "colab_type": "code",
        "colab": {}
      },
      "source": [
        ""
      ],
      "execution_count": 0,
      "outputs": []
    }
  ]
}